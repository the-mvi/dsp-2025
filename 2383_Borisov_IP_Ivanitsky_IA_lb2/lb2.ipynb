{
 "cells": [
  {
   "cell_type": "markdown",
   "id": "524033f7",
   "metadata": {},
   "source": [
    "# Лабораторная работа №2 — Моделирование и анализ линейных комбинаций дискретных сигналов\n",
    "  Выполнили студенты гр. 2383 Борисов Иван Павлович и Иваницкий Илья Александрович.\n",
    "**Вариант:** **9**\n",
    "\n",
    "**Цель работы:** изучить математическое описание линейных комбинаций дискретных гармонических сигналов и овладеть программными средствами их моделирования.\n"
   ]
  },
  {
   "cell_type": "markdown",
   "id": "5e41c660",
   "metadata": {},
   "source": [
    "## Исходные параметры"
   ]
  },
  {
   "cell_type": "code",
   "execution_count": 4,
   "id": "10d80e01-de07-435e-813d-325030491e4f",
   "metadata": {},
   "outputs": [
    {
     "ename": "ModuleNotFoundError",
     "evalue": "No module named 'numpy'",
     "output_type": "error",
     "traceback": [
      "\u001b[31m---------------------------------------------------------------------------\u001b[39m",
      "\u001b[31mModuleNotFoundError\u001b[39m                       Traceback (most recent call last)",
      "\u001b[36mCell\u001b[39m\u001b[36m \u001b[39m\u001b[32mIn[4]\u001b[39m\u001b[32m, line 1\u001b[39m\n\u001b[32m----> \u001b[39m\u001b[32m1\u001b[39m \u001b[38;5;28;01mimport\u001b[39;00m\u001b[38;5;250m \u001b[39m\u001b[34;01mnumpy\u001b[39;00m\u001b[38;5;250m \u001b[39m\u001b[38;5;28;01mas\u001b[39;00m\u001b[38;5;250m \u001b[39m\u001b[34;01mnp\u001b[39;00m\n\u001b[32m      2\u001b[39m \u001b[38;5;28;01mimport\u001b[39;00m\u001b[38;5;250m \u001b[39m\u001b[34;01mmatplotlib\u001b[39;00m\u001b[34;01m.\u001b[39;00m\u001b[34;01mpyplot\u001b[39;00m\u001b[38;5;250m \u001b[39m\u001b[38;5;28;01mas\u001b[39;00m\u001b[38;5;250m \u001b[39m\u001b[34;01mplt\u001b[39;00m\n\u001b[32m      4\u001b[39m Nb = \u001b[32m9\u001b[39m  \u001b[38;5;66;03m# Номер варианта\u001b[39;00m\n",
      "\u001b[31mModuleNotFoundError\u001b[39m: No module named 'numpy'"
     ]
    }
   ],
   "source": [
    "import numpy as np\n",
    "import matplotlib.pyplot as plt\n",
    "\n",
    "Nb = 9  # номер бригады\n",
    "\n",
    "# Длина последовательности\n",
    "N = 30 + Nb % 5\n",
    "\n",
    "a = (-1)**Nb * (0.8 + 0.005 * (Nb % 20))   # основание экспоненты для s3(k)\n",
    "C = 1 + Nb % 5                              # амплитуда гармонического сигнала s3(k)\n",
    "w0 = np.pi / (6 + Nb % 5)                   # частота гармонического сигнала s3(k)\n",
    "\n",
    "U = Nb % 20 + 1                             # амплитуда импульса s1(k)\n",
    "n0 = 3 + Nb % 5                              # начальный момент импульса\n",
    "n_imp = 5 + Nb % 5                            # длительность импульса\n",
    "\n",
    "# Параметры гармонических сигналов для линейной комбинации s2(k)\n",
    "B1 = 1.5 + Nb % 5\n",
    "B2 = 5.7 - Nb % 5\n",
    "B3 = 2.2 + Nb % 5\n",
    "\n",
    "w1 = np.pi / (4 + Nb % 5)\n",
    "w2 = np.pi / (8 + Nb % 5)\n",
    "w3 = np.pi / (16 + Nb % 5)\n",
    "\n",
    "a1 = 1.5 - Nb % 5\n",
    "a2 = 0.7 + Nb % 5\n",
    "a3 = 1.4 + Nb % 5\n"
   ]
  },
  {
   "cell_type": "markdown",
   "id": "74828cd9",
   "metadata": {},
   "source": [
    "## Краткое изложение теоретических понятий (кратко)\n",
    "\n",
    "- **Дискретный прямоугольный импульс** s1(k) моделируется как кусочно-постоянная последовательность: s1(k)=U для k∈[n0, n0+n_imp-1], иначе 0. Чаще удобно строить его через дискретный единичный скачок σ_d(k): прямоугольный импульс можно получить как U*(σ_d(k-n0) - σ_d(k-(n0+n_imp))).\n",
    "\n",
    "- **Линейная комбинация гармонических сигналов** задаётся суммой взвешенных синусоид: s2(k)=a1*B1*sin(ω1*k) + a2*B2*sin(ω2*k) + a3*B3*sin(ω3*k). Моделирование — вычисление каждой составляющей и суммирование поэлементно.\n",
    "\n",
    "- **Среднее значение** последовательности x(k) (mean) — арифметическое среднее по дискретному времени: mean = (1/N) * Σ x(k).\n",
    "\n",
    "- **Энергия** дискретной последовательности x(k): E = Σ |x(k)|^2.\n",
    "\n",
    "- **Средняя мощность**: P = E / L, где L — число отсчётов.\n",
    "\n",
    "- **Гармонический сигнал с экспоненциальной огибающей**: s3(k) = C * cos(ω0 * k) * |a|^k.\n",
    "\n",
    "- **Периодическая последовательность прямоугольных импульсов**: строится повторением одного прямоугольного импульса с заданным периодом T. Для длительности n_imp и периода 2*n_imp — в каждом периоде импульс длится n_imp, а затем следует пауза той же длины.\n"
   ]
  },
  {
   "cell_type": "markdown",
   "id": "fae8c5cf",
   "metadata": {},
   "source": [
    "## Код и моделирование."
   ]
  },
  {
   "cell_type": "code",
   "execution_count": 6,
   "id": "8d749cee",
   "metadata": {},
   "outputs": [
    {
     "ename": "NameError",
     "evalue": "name 'plt' is not defined",
     "output_type": "error",
     "traceback": [
      "\u001b[31m---------------------------------------------------------------------------\u001b[39m",
      "\u001b[31mNameError\u001b[39m                                 Traceback (most recent call last)",
      "\u001b[36mCell\u001b[39m\u001b[36m \u001b[39m\u001b[32mIn[6]\u001b[39m\u001b[32m, line 1\u001b[39m\n\u001b[32m----> \u001b[39m\u001b[32m1\u001b[39m \u001b[43mplt\u001b[49m.figure(figsize=(\u001b[32m8\u001b[39m,\u001b[32m3\u001b[39m))\n\u001b[32m      2\u001b[39m plt.stem(n, s1, )\n\u001b[32m      3\u001b[39m plt.title(\u001b[33m'\u001b[39m\u001b[33ms1(k) — прямоугольный импульс\u001b[39m\u001b[33m'\u001b[39m)\n",
      "\u001b[31mNameError\u001b[39m: name 'plt' is not defined"
     ]
    }
   ],
   "source": [
    "# Используем дискретный единичный скачок (heaviside) для моделирования импульса\n",
    "n = np.arange(N)\n",
    "s1 = U * (np.heaviside(n - n0, 1) - np.heaviside(n - (n0 + n_imp), 1))\n",
    "\n",
    "plt.figure(figsize=(8,3))\n",
    "plt.stem(n, s1, )\n",
    "plt.title('s1(k) — прямоугольный импульс')\n",
    "plt.xlabel('k'); plt.ylabel('s1(k)')\n",
    "plt.grid(True)\n",
    "plt.show()\n"
   ]
  },
  {
   "cell_type": "markdown",
   "id": "afd62c3c-9c83-4e84-a91c-f052e9e3be12",
   "metadata": {},
   "source": [
    "![](Figure_1.png)"
   ]
  },
  {
   "cell_type": "code",
   "execution_count": 7,
   "id": "e7e0ffc0",
   "metadata": {},
   "outputs": [
    {
     "ename": "NameError",
     "evalue": "name 'np' is not defined",
     "output_type": "error",
     "traceback": [
      "\u001b[31m---------------------------------------------------------------------------\u001b[39m",
      "\u001b[31mNameError\u001b[39m                                 Traceback (most recent call last)",
      "\u001b[36mCell\u001b[39m\u001b[36m \u001b[39m\u001b[32mIn[7]\u001b[39m\u001b[32m, line 3\u001b[39m\n\u001b[32m      1\u001b[39m \u001b[38;5;66;03m# Моделирование линейной комбинации трёх гармонических сигналов s2(k)\u001b[39;00m\n\u001b[32m      2\u001b[39m L = \u001b[32m5\u001b[39m * \u001b[32m34\u001b[39m\n\u001b[32m----> \u001b[39m\u001b[32m3\u001b[39m k = \u001b[43mnp\u001b[49m.arange(\u001b[32m0\u001b[39m, L)\n\u001b[32m      5\u001b[39m x1 = \u001b[32m5.5\u001b[39m * np.sin(\u001b[32m0.39269908169872414\u001b[39m * k)\n\u001b[32m      6\u001b[39m x2 = \u001b[32m1.7000000000000002\u001b[39m * np.sin(\u001b[32m0.2617993877991494\u001b[39m * k)\n",
      "\u001b[31mNameError\u001b[39m: name 'np' is not defined"
     ]
    }
   ],
   "source": [
    "# Генерируем три гармонических сигнала x1(k), x2(k), x3(k)\n",
    "L = 5 * N  # интервал времени: 5*N\n",
    "k = np.arange(L)\n",
    "\n",
    "x1 = B1 * np.sin(w1 * k)  # x1(k) = B1 * sin(w1*k)\n",
    "x2 = B2 * np.sin(w2 * k)  # x2(k) = B2 * sin(w2*k)\n",
    "x3 = B3 * np.sin(w3 * k)  # x3(k) = B3 * sin(w3*k)\n",
    "\n",
    "# Формируем линейную комбинацию\n",
    "s2 = a1 * x1 + a2 * x2 + a3 * x3\n",
    "# Математически: s2(k) = a1*x1(k) + a2*x2(k) + a3*x3(k)\n",
    "\n",
    "# Графики составляющих сигналов\n",
    "plt.figure(figsize=(8,2.5))\n",
    "plt.plot(k, x1)\n",
    "plt.title('x1(k) = B1*sin(w1*k)')\n",
    "plt.xlabel('k'); plt.grid(True)\n",
    "plt.show()\n",
    "\n",
    "plt.figure(figsize=(8,2.5))\n",
    "plt.plot(k, x2)\n",
    "plt.title('x2(k) = B2*sin(w2*k)')\n",
    "plt.xlabel('k'); plt.grid(True)\n",
    "plt.show()\n",
    "\n",
    "plt.figure(figsize=(8,2.5))\n",
    "plt.plot(k, x3)\n",
    "plt.title('x3(k) = B3*sin(w3*k)')\n",
    "plt.xlabel('k'); plt.grid(True)\n",
    "plt.show()\n",
    "\n",
    "# График линейной комбинации\n",
    "plt.figure(figsize=(10,3))\n",
    "plt.plot(k, s2)\n",
    "plt.title('s2(k) = a1*x1 + a2*x2 + a3*x3')\n",
    "plt.xlabel('k'); plt.grid(True)\n",
    "plt.show()"
   ]
  },
  {
   "cell_type": "markdown",
   "id": "d56c43e4-c366-40d5-a1cf-775e114d80de",
   "metadata": {},
   "source": [
    "![](Figure_2.png)\n",
    "![](Figure_3.png)\n",
    "![](Figure_4.png)\n",
    "![](Figure_5.png)"
   ]
  },
  {
   "cell_type": "code",
   "execution_count": null,
   "id": "002b1660",
   "metadata": {},
   "outputs": [],
   "source": [
    "# Вычисление характеристик сигнала s2(k)\n",
    "mean_s2 = np.mean(s2)        # среднее значение\n",
    "E = np.sum(np.abs(s2)**2)    # энергия последовательности\n",
    "P = E / L                     # средняя мощность\n",
    "\n",
    "k = np.arange(N)\n",
    "s3 = C * np.cos(w0 * k) * (abs(a) ** k)\n",
    "# s3(k) = C*cos(w0*k)*|a|^k\n",
    "# cos(w0*k) — гармонический сигнал, |a|^k — экспоненциальная огибающая\n",
    "\n",
    "plt.figure(figsize=(9,3))\n",
    "plt.plot(k, s3, marker='o', markersize=3)\n",
    "plt.title('s3(k) = C*cos(w0*k)*|a|^k')\n",
    "plt.xlabel('k'); plt.grid(True)\n",
    "plt.show()"
   ]
  },
  {
   "cell_type": "markdown",
   "id": "5ce5cee8-8ab7-415a-b586-aa58df6396d2",
   "metadata": {},
   "source": [
    "![](Figure_6.png)"
   ]
  },
  {
   "cell_type": "code",
   "execution_count": null,
   "id": "4d4ce132",
   "metadata": {},
   "outputs": [],
   "source": [
    "period = 2 * n_imp        # период в 2 раза больше длительности импульса\n",
    "total = 5 * period        # строим 5 периодов\n",
    "k = np.arange(total)\n",
    "s4 = U * (k % period < n_imp)\n",
    "# Используем остаток от деления, чтобы \"повторять\" импульс через каждые period отсчетов\n",
    "# k % period < n_imp — True (1) для первых n_imp отсчетов каждого периода\n",
    "\n",
    "plt.figure(figsize=(10,2.5))\n",
    "plt.stem(k, s4, )\n",
    "plt.title('s4(k) — периодическая последовательность прямоугольных импульсов (5 периодов)')\n",
    "plt.xlabel('k'); plt.ylabel('s4(k)')\n",
    "plt.grid(True)\n",
    "plt.show()"
   ]
  },
  {
   "cell_type": "markdown",
   "id": "1282d021-f117-4f2f-8b49-618cf6b68363",
   "metadata": {},
   "source": [
    "![](Figure_7.png)"
   ]
  },
  {
   "cell_type": "markdown",
   "id": "f751d61d",
   "metadata": {},
   "source": [
    "## Выводы\n",
    "\n",
    "В ходе работы были смоделированы дискретные сигналы: прямоугольный импульс, линейная комбинация гармонических последовательностей, гармонический сигнал с экспоненциальной огибающей и периодическая последовательность импульсов. Все параметры сигналов вычислялись программно на основе номера бригады, что обеспечило автоматизацию и универсальность моделирования. Линейная комбинация гармонических сигналов позволила вычислить среднее значение, энергию и среднюю мощность последовательности. Графики наглядно показали формы сигналов, экспоненциальное затухание и периодичность импульсов. Работа закрепила знания о математическом описании дискретных сигналов и их программной реализации, а также показала влияние параметров на форму и характеристики сигналов.\n"
   ]
  }
 ],
 "metadata": {
  "kernelspec": {
   "display_name": "Python 3 (ipykernel)",
   "language": "python",
   "name": "python3"
  },
  "language_info": {
   "codemirror_mode": {
    "name": "ipython",
    "version": 3
   },
   "file_extension": ".py",
   "mimetype": "text/x-python",
   "name": "python",
   "nbconvert_exporter": "python",
   "pygments_lexer": "ipython3",
   "version": "3.13.3"
  }
 },
 "nbformat": 4,
 "nbformat_minor": 5
}
