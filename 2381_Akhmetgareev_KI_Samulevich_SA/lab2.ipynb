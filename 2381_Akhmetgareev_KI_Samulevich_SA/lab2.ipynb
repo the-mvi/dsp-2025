{
 "cells": [
  {
   "cell_type": "markdown",
   "metadata": {
    "id": "g38VRhLibCxJ"
   },
   "source": [
    "# Лабораторная работа №2: Моделирование и анализ линейных комбинаций дискретных сигналов\n",
    "\n",
    "Выполнили студенты гр. 2381 Ахметгареев Карим Ильгизович и Самулевич Степан Александрович. Вариант №1."
   ]
  },
  {
   "cell_type": "markdown",
   "metadata": {
    "id": "PkJXFYzHbCxK"
   },
   "source": [
    "## Цель работы\n",
    "\n",
    "Изучить математическое описание линейных комбинаций дискретных гармонических сигналов и овладеть программными средствами их моделирования."
   ]
  },
  {
   "cell_type": "markdown",
   "metadata": {
    "id": "QPQ8v-BIbCxK"
   },
   "source": [
    "## Основные теоретические положения\n",
    "\n",
    "Дискретный сигнал:\n",
    "\n",
    "$\\[\n",
    "x(k), \\quad k = 0, 1, 2, \\ldots, N - 1\n",
    "\\]$\n",
    "\n",
    "Дискретный прямоугольный импульс:\n",
    "\n",
    "$\\[\n",
    "s_1(k) =\n",
    "\\begin{cases}\n",
    "U, & n_0 \\leq k \\leq n_0 + n_{\\text{имп}} - 1, \\\\\n",
    "0, & \\text{иначе}\n",
    "\\end{cases}\n",
    "\\]$\n",
    "\n",
    "Дискретный единичный скачок:\n",
    "\n",
    "$ \\sigma_d(k) =\n",
    "\\begin{cases}\n",
    "1, & k \\geq 0, \\\\\n",
    "0, & k < 0,\n",
    "\\end{cases}\n",
    "\\quad k \\in \\mathbb{Z} $\n",
    "\n",
    "Линейная комбинация трёх гармонических сигналов:\n",
    "\n",
    "$\\[\n",
    "s_2(k) = a_1 x_1(k) + a_2 x_2(k) + a_3 x_3(k)\n",
    "\\]$\n",
    "\n",
    "где\n",
    "\n",
    "$\\[\n",
    "x_i(k) = B_i \\sin(\\omega_i k), \\quad i = 1, 2, 3\n",
    "\\]$\n",
    "\n",
    "Для дискретного сигнала \\( s(k) \\):\n",
    "\n",
    "Среднее значение:\n",
    "\n",
    "$\\[\n",
    "\\bar{s} = \\frac{1}{N} \\sum_{k=0}^{N-1} s(k)\n",
    "\\]$\n",
    "\n",
    "Энергия:\n",
    "\n",
    "$\\[\n",
    "E = \\sum_{k=0}^{N-1} |s(k)|^2\n",
    "\\]$\n",
    "\n",
    "Средняя мощность:\n",
    "\n",
    "$\\[\n",
    "P = \\frac{1}{N} \\sum_{k=0}^{N-1} |s(k)|^2\n",
    "\\]$\n",
    "\n",
    "Дискретный гармонический сигнал:\n",
    "\n",
    "$\\[\n",
    "s(k) = C \\cos(\\omega_0 k)\n",
    "\\]$\n",
    "\n",
    "Огибающая модуля сигнала:\n",
    "\n",
    "$\\[\n",
    "|s(k)| = \\sqrt{s^2_{\\text{Re}}(k) + s^2_{\\text{Im}}(k)}\n",
    "\\]$\n",
    "\n",
    "Периодическая импульсная последовательность:\n",
    "\n",
    "$\\[\n",
    "s_4(k) = \\sum_{m=0}^{M-1} s_1(k - m n_{\\text{период}})\n",
    "\\]$\n"
   ]
  },
  {
   "cell_type": "markdown",
   "metadata": {
    "id": "vMliLrKHbCxL"
   },
   "source": [
    "## Постановка задачи\n",
    "\n",
    "С помощью программных средств провести моделирование и анализ линейных комбинацций дискретных гармонических последовательностей. Результаты подкрепить соответствующими графиками и выводами."
   ]
  },
  {
   "cell_type": "markdown",
   "metadata": {
    "id": "AcQiMeqibCxL"
   },
   "source": [
    "## Выполнение работы\n",
    "\n",
    "Пункты работы выполняется с помощью кода."
   ]
  },
  {
   "cell_type": "code",
   "execution_count": null,
   "metadata": {},
   "outputs": [],
   "source": [
    "import matplotlib.pyplot as plt\n",
    "import numpy as np\n",
    "\n",
    "Nb = 1\n",
    "N = 30 + Nb\n",
    "\n",
    "n0 = 3 + Nb\n",
    "n_imp = 5 + Nb\n",
    "U = 1 + Nb\n",
    "\n",
    "B1 = 1.5 + Nb\n",
    "B2 = 5.7 - Nb\n",
    "B3 = 2.2 + Nb\n",
    "w0 = np.pi / (1 + Nb)\n",
    "w1 = np.pi / (4 + Nb)\n",
    "w2 = np.pi / (8 + Nb)\n",
    "w3 = np.pi / (16 + Nb)\n",
    "a1 = 1.5 - Nb\n",
    "a2 = 0.7 + Nb\n",
    "a3 = 1.4 + Nb\n",
    "\n",
    "a_coef = [a1, a2, a3]\n",
    "B = [B1, B2, B3]\n",
    "omega = [w1, w2, w3]\n",
    "\n",
    "C = 1 + Nb\n",
    "a = (-1) ** Nb * (0.8 + 0.005 * Nb)\n",
    "\n",
    "\n",
    "def smart_xlim(x_axis, left_pad=3, right_pad=1):\n",
    "    left = np.min(x_axis)\n",
    "    right = np.max(x_axis)\n",
    "    return left - left_pad, right + right_pad\n",
    "\n",
    "\n",
    "def plot_signal(n, s, title, xlabel='n (дискретное время)', center_axis=True):\n",
    "    plt.figure(figsize=(7, 4))\n",
    "    markerline, stemlines, baseline = plt.stem(n, s)\n",
    "    plt.title(title)\n",
    "    plt.xlabel(xlabel)\n",
    "    plt.ylabel('Амплитуда')\n",
    "    if center_axis:\n",
    "        xmin, xmax = smart_xlim(n)\n",
    "        plt.xlim(xmin, xmax)\n",
    "        plt.axhline(0, color='black', linewidth=1)\n",
    "        plt.grid(True)\n",
    "        plt.show()\n",
    "\n",
    "\n",
    "n_s1 = np.arange(0, N - 1)\n",
    "s1 = np.zeros_like(n_s1, dtype=float)\n",
    "start = n0\n",
    "end = start + n_imp - 1\n",
    "s1[start:end] = U\n",
    "plot_signal(n_s1, s1, title=\"s1(n) – Импульсный сигнал\")\n",
    "\n",
    "n_s2 = np.arange(0, 5 * N - 1)\n",
    "x = {}\n",
    "for k in range(3):\n",
    "    x[k] = B[k] * np.cos(omega[k] * n_s2)\n",
    "    plot_signal(n_s2, x[k], title=f\"x_{k + 1}(n) = B{k + 1} cos(ω{k + 1} n)\")\n",
    "\n",
    "s2 = a1 * x.get(0) + a2 * x.get(1) + a3 * x.get(2)\n",
    "plot_signal(n_s2, s2, title=f\"s_2(n) - Линейная комбинация гармоничкских сигналов\")\n",
    "mean_s2 = 1 / N * np.sum(s2)\n",
    "E = 1 / N * np.sum(s2 ** 2)\n",
    "\n",
    "print(\"E = \", E, \"mean_s2 = \", mean_s2)\n",
    "\n",
    "n_s3 = np.arange(0, N - 1)\n",
    "s3 = np.abs(a) ** (n_s3) * C * np.cos(w0 * n_s3)\n",
    "plot_signal(n_s3, s3, title=\"s3(n) - Гармонический сигнал с экспоекециальной огибающей\")\n",
    "\n",
    "n_s4 = np.arange(0, 5 * 2 * n_imp)\n",
    "s4 = np.zeros_like(n_s4, dtype=float)\n",
    "for i in range(5):\n",
    "    start = i * 2 * n_imp\n",
    "    end = start + n_imp\n",
    "    s4[start:end] = U\n",
    "\n",
    "plot_signal(n_s4, s4, title=\"s4(n) – Импульсный сигнал\")\n"
   ]
  },
  {
   "cell_type": "markdown",
   "metadata": {},
   "source": [
    "### Выводы  \n",
    "В ходе выполнения лабораторной работы были изучены и смоделированы различные типы дискретных сигналов, включая прямоугольный импульс, гармонические сигналы и их линейные комбинации.  \n",
    "Были рассмотрены основные характеристики дискретных сигналов — среднее значение, энергия и мощность, а также проанализированы их взаимосвязи.  \n",
    "Построенные графики подтвердили теоретические зависимости и позволили наглядно наблюдать влияние параметров (амплитуды, частоты и фазы) на форму и свойства сигналов.  \n",
    "Таким образом, в результате лабораторной работы были закреплены теоретические знания о дискретных сигналах и приобретены практические навыки их моделирования и анализа средствами matplotlib и NumPy.\n"
   ]
  }
 ],
 "metadata": {
  "colab": {
   "provenance": []
  },
  "kernelspec": {
   "display_name": "Python 3",
   "language": "python",
   "name": "python3"
  },
  "language_info": {
   "codemirror_mode": {
    "name": "ipython",
    "version": 3
   },
   "file_extension": ".py",
   "mimetype": "text/x-python",
   "name": "python",
   "nbconvert_exporter": "python",
   "pygments_lexer": "ipython3",
   "version": "3.12.4"
  }
 },
 "nbformat": 4,
 "nbformat_minor": 0
}

