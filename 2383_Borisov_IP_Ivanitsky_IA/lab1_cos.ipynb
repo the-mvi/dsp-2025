{
 "cells": [
  {
   "cell_type": "markdown",
   "metadata": {
    "id": "g38VRhLibCxJ"
   },
   "source": [
    "# Лабораторная работа №1: Моделирование стандартных дискретных сигналов\n",
    "\n",
    "Выполнили студенты гр. 2383 Борисов Иван Павлович, Иваницкий Илья Александрович. Вариант №9."
   ]
  },
  {
   "cell_type": "markdown",
   "metadata": {
    "id": "PkJXFYzHbCxK"
   },
   "source": [
    "## Цель работы\n",
    "\n",
    "Изучить математическое описание стандартных дискретных сигналов и овладеть программными средствами их моделирования."
   ]
  },
  {
   "cell_type": "markdown",
   "metadata": {
    "id": "QPQ8v-BIbCxK"
   },
   "source": [
    "## Основные теоретические положения\n",
    "\n",
    "Частота дискретизации:\n",
    "\n",
    "$ f_d = \\frac{1}{T} $\n",
    "\n",
    "Единичный цифровой импульс:\n",
    "\n",
    "$ \\delta_d(k) =\n",
    "\\begin{cases}\n",
    "1, & k = 0, \\\\\n",
    "0, & k \\neq 0,\n",
    "\\end{cases}\n",
    "\\quad k \\in \\mathbb{Z} $\n",
    "\n",
    "Дельта-функция (функция Дирака):\n",
    "\n",
    "$ \\delta(t) =\n",
    "\\begin{cases}\n",
    "\\infty, & t = 0, \\\\\n",
    "0, & t \\neq 0.\n",
    "\\end{cases} $\n",
    "\n",
    "Дискретный единичный скачок:\n",
    "\n",
    "$ \\sigma_d(k) =\n",
    "\\begin{cases}\n",
    "1, & k \\geq 0, \\\\\n",
    "0, & k < 0,\n",
    "\\end{cases}\n",
    "\\quad k \\in \\mathbb{Z} $\n",
    "\n",
    "Функция единичного скачка (функция Хевисайда):\n",
    "\n",
    "$ \\sigma(t) =\n",
    "\\begin{cases}\n",
    "1, & t > 0, \\\\\n",
    "0.5 \\ или \\ не \\ определена, & t = 0, \\\\\n",
    "0, & t < 0.\n",
    "\\end{cases} $\n",
    "\n",
    "Дискретная экспоненциальная функция:\n",
    "\n",
    "$ s_1(k) =\n",
    "\\begin{cases}\n",
    "0, & k < 0, \\\\\n",
    "a^k, & k \\geq 0,\n",
    "\\end{cases}\n",
    "\\quad k \\in \\mathbb{Z} $\n",
    "\n",
    "Дискретный комплексный гармонический сигнал:\n",
    "\n",
    "$ s_2(k) = C \\exp\\!\\big(j \\omega_0 k \\big) $\n"
   ]
  },
  {
   "cell_type": "markdown",
   "metadata": {
    "id": "vMliLrKHbCxL"
   },
   "source": [
    "## Постановка задачи\n",
    "\n",
    "Используя соответствующее программное обеспечение, выполнить моделирование и исследование характеристик базовых дискретных последовательностей. Полученные результаты должны быть проиллюстрированы."
   ]
  },
  {
   "cell_type": "markdown",
   "metadata": {
    "id": "AcQiMeqibCxL"
   },
   "source": [
    "## Выполнение работы"
   ]
  },
  {
   "cell_type": "code",
   "execution_count": null,
   "metadata": {
    "id": "h25ap94wmXDV"
   },
   "outputs": [],
   "source": [
    "\n",
    "import numpy as np\n",
    "\n",
    "# Номер бригады\n",
    "N_br = 9\n",
    "\n",
    "# Количество отсчетов\n",
    "N = 30 + (N_br % 5)  \n",
    "# Период дискретизации (шаг времени между отсчетами)\n",
    "T = 0.0005 * (1 + (N_br % 3))  \n",
    "# Параметр экспоненты\n",
    "a = (-1)**N_br * (0.8 + 0.005 * (N_br % 20))  \n",
    "# Амплитуда гармонического сигнала\n",
    "C = 1 + (N_br % 5)  \n",
    "# Угловая частота гармонического сигнала\n",
    "w0 = np.pi / (6 + (N_br % 5))  \n",
    "# Задержка в отсчетах\n",
    "m = 5 + (N_br % 5)  \n",
    "\n",
    "# Вектор индексов дискретного времени\n",
    "n = np.arange(N)  \n",
    "# Вектор реального времени (t = n*T)\n",
    "t = n * T  "
   ]
  },
  {
   "cell_type": "markdown",
   "metadata": {
    "id": "1EA-fLATvpe0"
   },
   "source": [
    "## Задание 1"
   ]
  },
  {
   "cell_type": "code",
   "execution_count": null,
   "metadata": {},
   "outputs": [],
   "source": [
    "import matplotlib.pyplot as plt\n",
    "\n",
    "# δ[k] - дискретная единичная последовательность\n",
    "# δ[0] = 1, остальные элементы = 0\n",
    "# Это фундаментальная последовательность для анализа линейных дискретных систем\n",
    "delta = np.zeros(N)\n",
    "delta[0] = 1\n",
    "\n",
    "plt.figure(figsize=(10,4))\n",
    "plt.subplot(1,2,1)\n",
    "plt.stem(n, delta,)\n",
    "plt.title(\"Единичный цифровой импульс δd(k)\")\n",
    "plt.xlabel(\"n\")\n",
    "plt.grid(True)\n",
    "\n",
    "plt.subplot(1,2,2)\n",
    "plt.stem(t, delta,)\n",
    "plt.title(\"Единичный цифровой импульс δd(t)\")\n",
    "plt.xlabel(\"t [с]\")\n",
    "plt.grid(True)\n",
    "\n",
    "plt.tight_layout()\n",
    "plt.show()\n",
    "\n",
    "# - δ[k] = 1 при k=0, δ[k] = 0 при k≠0\n",
    "# - Используется для построения отклика дискретной системы\n",
    "# - Отображение по времени t = n*T позволяет увидеть реальные интервалы дискретизации\n"
   ]
  },
  {
   "cell_type": "markdown",
   "metadata": {
    "id": "ezbhtj0anc7o"
   },
   "source": [
    "![](Figure_1.png)"
   ]
  },
  {
   "cell_type": "markdown",
   "metadata": {
    "id": "CAREY9h_vwRu"
   },
   "source": [
    "## Задание 2"
   ]
  },
  {
   "cell_type": "code",
   "execution_count": null,
   "metadata": {
    "id": "_5fHpGozv5Bp"
   },
   "outputs": [],
   "source": [
    "# σ[k] - единичная ступенчатая последовательность\n",
    "# σ[k] = 1 для всех k >= 0\n",
    "# Используется для анализа интегрирующих систем и накопительных процессов\n",
    "sigma = np.ones(N)\n",
    "\n",
    "plt.figure(figsize=(10,4))\n",
    "plt.subplot(1,2,1)\n",
    "plt.stem(n, sigma,)\n",
    "plt.title(\"Единичный скачок σd(k)\")\n",
    "plt.xlabel(\"n\")\n",
    "plt.grid(True)\n",
    "\n",
    "plt.subplot(1,2,2)\n",
    "plt.stem(t, sigma,)\n",
    "plt.title(\"Единичный скачок σd(t)\")\n",
    "plt.xlabel(\"t [с]\")\n",
    "plt.grid(True)\n",
    "\n",
    "plt.tight_layout()\n",
    "plt.show()\n",
    "\n",
    "# - σ[k] часто используется для анализа дискретных интеграторов\n",
    "# - В отличие от δ[k], скачок сохраняется на всех последующих отсчетах\n",
    "# - График по t показывает \"физическую\" временную ось\n"
   ]
  },
  {
   "cell_type": "markdown",
   "metadata": {},
   "source": [
    "![](Figure_2.png)"
   ]
  },
  {
   "cell_type": "markdown",
   "metadata": {
    "id": "AQ7e1Irj0Ixr"
   },
   "source": [
    "## Задание 3"
   ]
  },
  {
   "cell_type": "code",
   "execution_count": null,
   "metadata": {},
   "outputs": [],
   "source": [
    "# s1[k] = a^k, где a - константа\n",
    "# Используется для анализа стабильности и поведения дискретных систем\n",
    "s1 = a**n\n",
    "\n",
    "plt.figure(figsize=(10,4))\n",
    "plt.subplot(1,2,1)\n",
    "plt.stem(n, s1,)\n",
    "plt.title(\"s1(k) = a^k по n\")\n",
    "plt.xlabel(\"n\")\n",
    "plt.grid(True)\n",
    "\n",
    "plt.subplot(1,2,2)\n",
    "plt.stem(t, s1,)\n",
    "plt.title(\"s1(t) = a^t по времени t = nT\")\n",
    "plt.xlabel(\"t [с]\")\n",
    "plt.grid(True)\n",
    "\n",
    "plt.tight_layout()\n",
    "plt.show()\n",
    "\n",
    "# - Если |a| < 1, последовательность убывает, система устойчива\n",
    "# - Если |a| > 1, последовательность растет, система неустойчива\n",
    "# - Наличие отрицательного a приводит к чередованию знаков (колебательный процесс)\n"
   ]
  },
  {
   "cell_type": "markdown",
   "metadata": {},
   "source": [
    "![](Figure_3.png)"
   ]
  },
  {
   "cell_type": "markdown",
   "metadata": {
    "id": "8S1Jg54_0Pl_"
   },
   "source": [
    "## Задание 4"
   ]
  },
  {
   "cell_type": "code",
   "execution_count": null,
   "metadata": {
    "id": "yXjRMQk522fa"
   },
   "outputs": [],
   "source": [
    "# s2[k] = C * exp(j*w0*k)\n",
    "# Re{s2} = C*cos(w0*k), Im{s2} = C*sin(w0*k)\n",
    "# Используется для анализа частотных характеристик и гармонических сигналов\n",
    "s2 = C * np.exp(1j * w0 * n)\n",
    "s2_real = np.real(s2)\n",
    "s2_imag = np.imag(s2)\n",
    "\n",
    "plt.figure(figsize=(15,9))\n",
    "plt.subplot(2,2,1)\n",
    "plt.stem(n, s2_real,)\n",
    "plt.title(\"Вещественная часть дискретного комплексного гармонического сигнала\")\n",
    "plt.xlabel(\"n\")\n",
    "plt.grid(True)\n",
    "\n",
    "plt.subplot(2,2,2)\n",
    "plt.stem(t, s2_real,)\n",
    "plt.title(\"Вещественная часть дискретного комплексного гармонического сигнала по времени\")\n",
    "plt.xlabel(\"t [с]\")\n",
    "plt.grid(True)\n",
    "\n",
    "plt.subplot(2,2,3)\n",
    "plt.stem(n, s2_imag,)\n",
    "plt.title(\"Мнимая часть дискретного комплексного гармонического сигнала\")\n",
    "plt.xlabel(\"n\")\n",
    "plt.grid(True)\n",
    "\n",
    "plt.subplot(2,2,4)\n",
    "plt.stem(t, s2_imag,)\n",
    "plt.title(\"Мнимая часть дискретного комплексного гармонического сигнала по времени\")\n",
    "plt.xlabel(\"t [с]\")\n",
    "plt.grid(True)\n",
    "\n",
    "plt.tight_layout()\n",
    "plt.show()\n",
    "\n",
    "# - Комплексная экспонента используется для анализа сигналов в частотной области\n",
    "# - Re и Im сигнала показывают косинусную и синусную составляющие\n",
    "# - Графики по t позволяют увидеть реальный период и фазу сигнала"
   ]
  },
  {
   "cell_type": "markdown",
   "metadata": {},
   "source": [
    "![](Figure_4.png)"
   ]
  },
  {
   "cell_type": "markdown",
   "metadata": {
    "id": "Xx99H31b0Tge"
   },
   "source": [
    "## Задание 5"
   ]
  },
  {
   "cell_type": "code",
   "execution_count": null,
   "metadata": {
    "id": "RJ10SP174WVe"
   },
   "outputs": [],
   "source": [
    "# Сдвиг последовательности на m отсчетов\n",
    "delta_delayed = np.roll(delta, m)\n",
    "sigma_delayed = np.roll(sigma, m)\n",
    "s1_delayed = np.roll(s1, m)\n",
    "\n",
    "plt.figure(figsize=(10,8))\n",
    "\n",
    "plt.subplot(3,2,1)\n",
    "plt.stem(n, delta_delayed,)\n",
    "plt.title(f\"δd(k-m), m={m}\")\n",
    "plt.xlabel(\"n\")\n",
    "plt.grid(True)\n",
    "\n",
    "plt.subplot(3,2,3)\n",
    "plt.stem(n, sigma_delayed,)\n",
    "plt.title(f\"σd(k-m), m={m}\")\n",
    "plt.xlabel(\"n\")\n",
    "plt.grid(True)\n",
    "\n",
    "plt.subplot(3,2,5)\n",
    "plt.stem(n, s1_delayed,)\n",
    "plt.title(f\"s1(k-m), m={m}\")\n",
    "plt.xlabel(\"n\")\n",
    "plt.grid(True)\n",
    "\n",
    "plt.tight_layout()\n",
    "plt.show()\n",
    "\n",
    "# - Задержка на m отсчетов сдвигает сигнал по оси времени\n",
    "# - В линейных дискретных системах задержка реализуется через оператор z^-m\n",
    "# - Задержанные графики позволяют визуально оценить фазовые сдвиги и временные задержкин"
   ]
  },
  {
   "cell_type": "markdown",
   "metadata": {},
   "source": [
    "![](Figure_5.png)"
   ]
  },
  {
   "cell_type": "markdown",
   "metadata": {
    "id": "yE_h3zyybCxM",
    "jp-MarkdownHeadingCollapsed": true
   },
   "source": [
    "## Выводы\n",
    "\n",
    "В ходе выполнения лабораторной работы были смоделированы основные дискретные последовательности: единичный цифровой импульс δ[k], единичный скачок σ[k], экспоненциальная последовательность s1[k] = a^k и комплексный гармонический сигнал s2[k] = C·exp(j·ω₀·k).\n",
    "Были построены графики этих сигналов как по дискретным индексам n, так и по физическому времени t = n·T, что позволило показать различие между дискретным и нормированным временем.\n",
    "Комплексный гармонический сигнал был представлен через две вещественные последовательности - косинусную (Re{s2[k]}) и синусную (Im{s2[k]}), что демонстрирует его разложение на вещественные компоненты.\n",
    "Для единичного импульса, единичного скачка и экспоненциальной последовательности были смоделированы задержки на m отсчетов, и построены соответствующие графики, иллюстрирующие сдвиг сигналов во времени."
   ]
  }
 ],
 "metadata": {
  "colab": {
   "provenance": []
  },
  "kernelspec": {
   "display_name": "Python 3 (ipykernel)",
   "language": "python",
   "name": "python3"
  },
  "language_info": {
   "codemirror_mode": {
    "name": "ipython",
    "version": 3
   },
   "file_extension": ".py",
   "mimetype": "text/x-python",
   "name": "python",
   "nbconvert_exporter": "python",
   "pygments_lexer": "ipython3",
   "version": "3.13.3"
  }
 },
 "nbformat": 4,
 "nbformat_minor": 4
}
